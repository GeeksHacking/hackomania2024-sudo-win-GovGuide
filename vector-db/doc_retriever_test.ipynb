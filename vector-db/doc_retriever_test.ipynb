{
 "cells": [
  {
   "cell_type": "code",
   "execution_count": 7,
   "metadata": {},
   "outputs": [
    {
     "name": "stdout",
     "output_type": "stream",
     "text": [
      "['Energy Efficient Grant', 'Enterprise Development Grant']\n",
      "[Object(uuid=_WeaviateUUIDInt('e32f1f8e-7f8a-4b74-9bf2-f6f1dac2c970'), metadata=MetadataReturn(creation_time=None, last_update_time=None, distance=None, certainty=None, score=None, explain_score=None, is_consistent=None, rerank_score=None), properties={'content': \"# The Energy Efficient Grant\\n\\nThe Energy Efficient Grant (EEG) was launched in September 2022 and aims to help businesses within the Food and Service, Food Manufacturing or Retail sectors to cope with rising energy costs, through co-funding investments in more energy efficient equipment.\\n\\nIt provides financial support for SMEs to adopt pre-approval energy efficient equipment in the following categories: LED lighting, air-conditioning, cooking hobs, refrigerators, water heaters and clothes dryers.\\n\\n## EEG Eligibility\\n\\n### Who can apply?\\nA SME can apply for EEG if they meet all the following criteria:\\n- Is a business entity registerd and operating in Singapore in the Food Service, Food Manufacturing or Retail sectors as defined below\\n    - Food Service companies must have valid Singapore Food Agency (SFA) licences and be classified under SSICs 56 or 68104.\\n    - Food Manufacturing companies must have valid SFA licences and be classified under SSIC 10 or 11\\n    - Retail companies that are classified under SSIC 47\\n- Has a minimum of 30% local shareholding\\n- Company's Group annual sales turnover should be not more than S$100 million, OR Company's Group employment size should be no more than 200 employees\\n\\nEquipment purchased must be used in Singapore\\n\\n### How to apply and submit EEG claims?\\n4 steps:\\n1. Access the list of pre-approved energy efficient equipment (brands & models) and identify relevant eqiupment that best suits your business needs.\\n2. Source for the energy efficient equipment and get a quotation from the vendor.\\n3. Submit an application on the Business Grants Portal (BGP). You will need to register for a Corppass account to transact on the portal\\n4. After your application has been approved, submit your grant claim on the BGP before your claim due date.\\n\\nNote:\\n- From 1 Sep 2022 to 31 Mar 2024, companies will be able to submit applications for the purchase of energy efficient equipment through the Business Grants Portal (BGP).\\n- Companies will have up to 1 year from the time an application is approved to purchase and install the equipment and submit claims for reimbursement. Once an application has been submitted, companies may choose to proceed to purchase the equipment before the application outcome. However, companies will not be able to claim subsequently if the application is unsuccessful.\\n- This pre-approved energy efficient equipment listing is not to be taken as a form of endorsement or recommendation by the participating government agencies. Companies are reminded to carry out due diligence when engaging vendors, and not to share their Corppass with the vendors to carry out submission of any grant applications or claims.\\n\\n## Types of EEG Equipment\\nThe following equipment categories are supported under the EEG:\\n- Air-conditioner\\n- Clothes Dryer\\n- Cooking Hob\\n- LED Lighting\\n- Refrigerator\\n- Water Heater\", 'title': 'Energy Efficient Grant', 'source': 'data\\\\content\\\\Energy Efficient Grant.md'}, references=None, vector={}, collection='Whole_scheme'), Object(uuid=_WeaviateUUIDInt('94198b49-4139-42af-b532-856cdbe7aadd'), metadata=MetadataReturn(creation_time=None, last_update_time=None, distance=None, certainty=None, score=None, explain_score=None, is_consistent=None, rerank_score=None), properties={'content': \"# Enterprise Development Grant\\n- For Singapore companies starting new projects to upgrade their business, explore new growth, or expand overseas\\n- Funds individual projects tailored to your business\\n\\n## About this programme\\nThe Enterprise Development Grant (EDG) supports projects that help you upgrade, innovate, grow and transform your business. Submit your individual project proposals with details on your business plans and project outcomes to take your business further.\\n\\nEDG funds qualifying project costs namely third-party consultancy fees, software and equipment, and internal manpower cost.\\n\\n- Up to 50% of eligible costs for local SMEs\\n    - From 1 April 2023, SMEs can receive up to 50% support for EDG (sustainability-related projects may be supported at up to 70% from 1 April 2023 to 31 March 2026). Please refer to the Enterprise Sustainability Programme page for more details.\\n\\n## Eligibility\\n- Business entity registered and operating in Singapore\\n- Company has at least 30% local equity held directly or indirectly by Singaporean(s) and/or Singapore PR(s), determined by the ultimate individual ownership\\n- Company is financially ready to start and complete the project. Commonly used financial indicators, such as the current ratio, will be used for assessment.\\n\\n## Project Categories\\nToday and into the future, companies that thrive are the ones that have strong business foundations and strategies, adopt technology and innovative processes, and grow their overseas presence.  \\nEDG helps Singapore companies grow and transform. This grant supports projects that help you upgrade your business, innovate or venture overseas, under three categories: Core Capabilities, Innovation & Productivity, and Market Access\\n\\n### Core Capabilities\\nProjects under Core Capabilities help you prepare for growth and transformation by strengthening your business foundations. These include business strategy, financial management, human capital development, service excellence, strategic brand and marketing development.\\n\\n#### Business Strategy Development\\nFormulate growth strategies and processes to improve your business development, better manage your intellectual property assets, optimise R&D operations, and implement sustainable practices.\\n\\n Projects Accepted\\n- Diagnosis and gap analysis in your company\\n- Assessment of internal and external factors, such as strengths and weaknesses, and competition\\n- Development of a strategic roadmap, business frameworks, policies or processes\\n- Recommendations and plans for implementation\\n- Sustainability strategy projects that include one or more of the following components:\\n    - Assessment of sustainability risks and opportunities\\n    - Strategy development\\n    - Governance framework\\n    - Setting metrics and targets   \\nWhat's not covered:\\n- Stand-alone IP registration costs\\n- Stand-alone reports/assurance\\n- Stand-alone set-up of sustainability unit and/or hiring of Chief Sustainability Officer/Sustainability Lead\\n\\n#### Financial Management\\nOptimise your companyâ€™s financial performance and equip your management team with better skills to steward your companyâ€™s assets and resources more effectively.\\n\\nProjects accepted:\\n- Diagnosis and gap analysis in your company\\n- Development of a strategic roadmap, business frameworks, policies or processes\\n- Recommendations and plans for implementation\\n- Development of plans to optimise financing, investment, and risk management\\n- Identification of business risk exposure, and development of proper risk management processes and controls\\n- Formation of international corporate structures to minimise tax liabilities\\n\\nWhat is not covered:\\n- Regulatory compliance costs, such as preparation of consolidated financial statements, accounting/ tax filing services\\n- Drafting of legal documents\\n- Procurement of ICT solutions\\n\\n#### Human Capital Development\\nStrengthen your teams with the right skills as you scale and support business growth.\\n\\nProjects accepted:\\n- Diagnosis and gap analysis in your company\\n- Development of a strategic roadmap, business frameworks, policies or processes\\n- Recommendations and plans for implementation\\n\\nAreas covered:\\n- Compensation & Benefits\\n- Employee Engagement & Communication\\n- Employee Value Proposition\\n- HR Management\\n- International Mobility\\n- Job Redesign\\n- Learning & Development\\n- Manpower Planning\\n- Organisation Culture\\n- Performance Management\\n- Recruitment & Selection\\n- Talent Management & Succession Planning\\n\\nWhat is not covered:\\n- Standalone training courses\\n- Incentives, benefits and welfare subsidies for employees\\n\\n#### Service Excellence\\nImprove the quality of your service and products by gaining a deeper understanding of your customersâ€™ needs and understanding their decision-making processes.\\n\\nProjects accepted:\\n- Diagnosis and gap analysis in your company\\n- Assessment of internal and external factors, such as strengths and weaknesses, and competitors\\n- Development of a strategic roadmap, business frameworks, policies or processes\\n- Recommendations and plans for implementation\\n- Customer Diagnostics: Diagnosis and gap analysis of customer needs to improve service levels and drive customer-centric behaviour\\n- Service Innovation: Adoption of advanced customer research, analytics and service process redesign to enhance customer experience\\n\\nWhat is not covered:\\n- Incentives for mystery shoppers and customer survey respondents\\n\\n#### Strategic Brand and Marketing Development\\nDifferentiate your brand and marketing offerings through strategies that better capture your target audience and extend your reach.\\n\\nProjects accepted:\\n- Diagnosis and gap analysis in your company\\n- Assessment of internal and external factors, such as strengths and weaknesses, and competitors\\n- Primary or secondary research\\n- Recommendations and plans for implementation\\n- Development of effective brand strategy that appeals to targeted consumers and offers differentiated proposition from the competition\\n- Assessment of a brandâ€™s financial value and identification of brand levers\\n- Development of a strategic plan to optimise marketing resources and improve customer communications\\n\\nWhat is not covered:\\n- Production of corporate and/ or marketing collaterals, such as brochures, videos, websites, photography, stock pictures, and copywriting\\n- Implementation of marketing or PR campaigns, including retainer fees of consultants, advertising and media buys, engagement of social media influencers, management of websites/ social media platforms, Search Engine Optimisation (SEO), and Search Engine Marketing (SEM)\\n\\n## How to apply\\n1. Identify the project category you wish to apply for.\\n2. There are no pre-approved vendors for the EDG\", 'title': 'Enterprise Development Grant', 'source': 'data\\\\content\\\\Enterprise Development Grant.md'}, references=None, vector={}, collection='Whole_scheme')]\n"
     ]
    }
   ],
   "source": [
    "\n",
    "from dotenv import dotenv_values\n",
    "import weaviate\n",
    "import weaviate.classes as wvc\n",
    "\n",
    "env = dotenv_values()\n",
    "wv_headers = {\n",
    "    \"X-OpenAI-Api-key\": env[\"OPENAI_API_KEY\"]\n",
    "}\n",
    "wv_client = weaviate.connect_to_local(headers=wv_headers)\n",
    "\n",
    "scheme_chunk_collection = wv_client.collections.get(\"scheme_chunks\")\n",
    "scheme_whole_collection = wv_client.collections.get(\"whole_scheme\")\n",
    "\n",
    "user_input_dict = {\n",
    "    \"name\": \"GreenEats Food Service\",\n",
    "    \"industry\": \"Food Service\",\n",
    "    \"concern\": \"GreenEats Food Service is a mid-sized catering company in Singapore that specializes in providing healthy, sustainable meals for corporate events and private functions. However, with the increasing costs of energy, they are finding it challenging to maintain their profitability while upholding their commitment to sustainability.\",\n",
    "    # \"concern\": \"Mrs. Tan is a retired elderly citizen living alone in Singapore. She has recently been diagnosed with a degenerative condition that affects her mobility and ability to perform daily tasks independently. With her condition expected to worsen over time, Mrs. Tan is concerned about the financial burden of long-term care and support, especially as she does not have any immediate family nearby to assist her.\",\n",
    "    \"need\": \"GreenEats Food Service needs to upgrade its kitchen equipment to more energy-efficient alternatives to reduce their energy consumption and operational costs. They require modern cooking hobs, LED lighting, and refrigerators that can help them operate efficiently without compromising on the quality of their services.\",\n",
    "    \"nature\": \"GreenEats Food Service operates a large commercial kitchen where they prepare a variety of dishes for events of different scales. Their kitchen runs round the clock to cater to various clients' demands. They rely heavily on equipment such as cooking hobs for food preparation, refrigerators for storage, and LED lighting for proper illumination. However, their current equipment is outdated and consumes a significant amount of energy, resulting in high utility bills. Upgrading to energy-efficient equipment would not only reduce their operational costs but also align with their brand ethos of sustainability.\",\n",
    "}\n",
    "\n",
    "user_input = \"\"\"\n",
    "*Singaporean SME: GreenEats Food Service*\n",
    "*Industry:* Food Service\n",
    "*Concerns:* GreenEats Food Service is a mid-sized catering company in Singapore that specializes in providing healthy, sustainable meals for corporate events and private functions. However, with the increasing costs of energy, they are finding it challenging to maintain their profitability while upholding their commitment to sustainability.\n",
    "*Needs:* GreenEats Food Service needs to upgrade its kitchen equipment to more energy-efficient alternatives to reduce their energy consumption and operational costs. They require modern cooking hobs, LED lighting, and refrigerators that can help them operate efficiently without compromising on the quality of their services.\n",
    "*Nature of Work:* GreenEats Food Service operates a large commercial kitchen where they prepare a variety of dishes for events of different scales. Their kitchen runs round the clock to cater to various clients' demands. They rely heavily on equipment such as cooking hobs for food preparation, refrigerators for storage, and LED lighting for proper illumination. However, their current equipment is outdated and consumes a significant amount of energy, resulting in high utility bills. Upgrading to energy-efficient equipment would not only reduce their operational costs but also align with their brand ethos of sustainability.\n",
    "\"\"\"\n",
    "\n",
    "## Basic object search\n",
    "# results = scheme_collection.query.fetch_objects(\n",
    "#     return_properties=[\n",
    "#         \"title\",\n",
    "#         \"content_chunks\",\n",
    "#         \"source\",\n",
    "#     ],\n",
    "# )\n",
    "# print(results.objects[0].properties)\n",
    "\n",
    "## Vector similarity search\n",
    "rel_scheme = []\n",
    "for k, v in user_input_dict.items():\n",
    "    if k in [\"name\", \"industry\"]:\n",
    "        continue\n",
    "    results = scheme_chunk_collection.query.near_text(\n",
    "        query=v,\n",
    "        limit=2,\n",
    "        target_vector=\"content_chunk\",\n",
    "        certainty=0.85,\n",
    "        # distance=0.2,\n",
    "        return_metadata=wvc.query.MetadataQuery(\n",
    "            certainty=True,\n",
    "            distance=True\n",
    "        ),\n",
    "    )\n",
    "    for o in results.objects:\n",
    "        # print(o.properties)\n",
    "        # print(o.metadata.certainty)\n",
    "        # print(o.metadata.distance)\n",
    "        if o.properties[\"title\"] not in rel_scheme:\n",
    "            rel_scheme.append(o.properties[\"title\"])\n",
    "\n",
    "print(rel_scheme)\n",
    "\n",
    "filter = wvc.query.Filter.by_property(\"title\").contains_any(rel_scheme)\n",
    "results = scheme_whole_collection.query.fetch_objects(\n",
    "    filters=filter,\n",
    ")\n",
    "print(results.objects)\n",
    "wv_client.close()\n",
    "\n",
    "# results = scheme_collection.query.near_text(\n",
    "#     query=user_input,\n",
    "#     limit=3,\n",
    "#     target_vector=\"content_chunk\",\n",
    "#     # certainty=0.85,\n",
    "#     return_metadata=wvc.query.MetadataQuery(\n",
    "#         certainty=True,\n",
    "#         distance=True,\n",
    "#     )\n",
    "# )\n",
    "# for o in results.objects:\n",
    "#     print(o.properties)\n",
    "#     print(o.metadata.certainty)\n",
    "#     print(o.metadata.distance)\n",
    "# wv_client.close()\n"
   ]
  },
  {
   "cell_type": "markdown",
   "metadata": {},
   "source": [
    "\n",
    "*Singaporean SME: GreenEats Food Service*\n",
    "\n",
    "*Industry:* Food Service\n",
    "\n",
    "*Concerns:* GreenEats Food Service is a mid-sized catering company in Singapore that specializes in providing healthy, sustainable meals for corporate events and private functions. However, with the increasing costs of energy, they are finding it challenging to maintain their profitability while upholding their commitment to sustainability.\n",
    "\n",
    "*Needs:* GreenEats Food Service needs to upgrade its kitchen equipment to more energy-efficient alternatives to reduce their energy consumption and operational costs. They require modern cooking hobs, LED lighting, and refrigerators that can help them operate efficiently without compromising on the quality of their services.\n",
    "\n",
    "*Nature of Work:* GreenEats Food Service operates a large commercial kitchen where they prepare a variety of dishes for events of different scales. Their kitchen runs round the clock to cater to various clients' demands. They rely heavily on equipment such as cooking hobs for food preparation, refrigerators for storage, and LED lighting for proper illumination. However, their current equipment is outdated and consumes a significant amount of energy, resulting in high utility bills. Upgrading to energy-efficient equipment would not only reduce their operational costs but also align with their brand ethos of sustainability.\n"
   ]
  },
  {
   "cell_type": "markdown",
   "metadata": {},
   "source": [
    "\n",
    "**Singaporean Resident: Mrs. Tan**\n",
    "\n",
    "**Concerns:** Mrs. Tan is a retired elderly citizen living alone in Singapore. She has recently been diagnosed with a degenerative condition that affects her mobility and ability to perform daily tasks independently. With her condition expected to worsen over time, Mrs. Tan is concerned about the financial burden of long-term care and support, especially as she does not have any immediate family nearby to assist her.\n",
    "\n",
    "**Needs:** Mrs. Tan requires financial assistance to cover the costs of long-term care and support services as her condition progresses. She also needs access to specialized equipment and home modifications to ensure her safety and comfort at home. As her condition deteriorates, she may require professional caregivers or assistance with activities of daily living, such as bathing, dressing, and mobility.\n",
    "\n",
    "**Nature of Work:** Mrs. Tan is a retired individual who used to work as a teacher. She leads a relatively independent lifestyle but now faces challenges due to her deteriorating health condition. She spends most of her time at home and relies on community services for occasional assistance with household chores and errands. However, as her condition worsens, she anticipates needing more comprehensive support and care to maintain her quality of life.\n"
   ]
  },
  {
   "cell_type": "code",
   "execution_count": null,
   "metadata": {},
   "outputs": [],
   "source": []
  }
 ],
 "metadata": {
  "kernelspec": {
   "display_name": "venv",
   "language": "python",
   "name": "python3"
  },
  "language_info": {
   "codemirror_mode": {
    "name": "ipython",
    "version": 3
   },
   "file_extension": ".py",
   "mimetype": "text/x-python",
   "name": "python",
   "nbconvert_exporter": "python",
   "pygments_lexer": "ipython3",
   "version": "3.10.7"
  }
 },
 "nbformat": 4,
 "nbformat_minor": 2
}
